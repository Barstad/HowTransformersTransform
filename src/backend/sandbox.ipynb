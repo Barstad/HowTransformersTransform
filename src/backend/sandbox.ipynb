{
 "cells": [
  {
   "cell_type": "code",
   "execution_count": null,
   "metadata": {},
   "outputs": [],
   "source": [
    "from model.utils import get_token_embeddings_table, SMALL_MODEL, LARGER_MODEL\n",
    "get_token_embeddings_table(LARGER_MODEL, \"output\").shape\n"
   ]
  },
  {
   "cell_type": "code",
   "execution_count": 1,
   "metadata": {},
   "outputs": [
    {
     "data": {
      "text/plain": [
       "dict_keys(['small', 'large'])"
      ]
     },
     "execution_count": 1,
     "metadata": {},
     "output_type": "execute_result"
    }
   ],
   "source": [
    "\n",
    "import json\n",
    "with open(\"data/most_similar_global_input.json\", \"r\") as f:\n",
    "    data = json.load(f)\n",
    "\n",
    "data.keys()"
   ]
  },
  {
   "cell_type": "code",
   "execution_count": 10,
   "metadata": {},
   "outputs": [
    {
     "data": {
      "text/plain": [
       "dict_keys(['tokens', 'similarities'])"
      ]
     },
     "execution_count": 10,
     "metadata": {},
     "output_type": "execute_result"
    }
   ],
   "source": [
    "data[\"large\"][\"0\"][\"0\"].keys()"
   ]
  },
  {
   "cell_type": "code",
   "execution_count": null,
   "metadata": {},
   "outputs": [],
   "source": [
    "import json\n",
    "with open(\"data/prompt_similarities.json\", \"r\") as f:\n",
    "    data = json.load(f)\n",
    "\n",
    "data.keys()"
   ]
  },
  {
   "cell_type": "code",
   "execution_count": null,
   "metadata": {},
   "outputs": [],
   "source": [
    "len(data[\"large\"][\"layers\"].keys())\n"
   ]
  },
  {
   "cell_type": "code",
   "execution_count": null,
   "metadata": {},
   "outputs": [],
   "source": [
    "len(data[\"large\"][\"prompt_tokens\"])"
   ]
  },
  {
   "cell_type": "code",
   "execution_count": null,
   "metadata": {},
   "outputs": [],
   "source": [
    "len(data[\"small\"][\"layers\"])"
   ]
  },
  {
   "cell_type": "code",
   "execution_count": null,
   "metadata": {},
   "outputs": [],
   "source": [
    "\n",
    "import numpy as np\n",
    "from model.utils import cosine_similarity\n",
    "\n",
    "emb = np.arange(1000).reshape(1, 1000)\n",
    "embeddings = np.arange(100000).reshape(1000, 100)\n",
    "\n",
    "def similarity_except_max(emb, embeddings):\n",
    "    prompt_similarities = cosine_similarity(emb, embeddings)\n",
    "    max_sim = np.max(prompt_similarities, axis = 1)\n",
    "    mask = prompt_similarities<max_sim\n",
    "\n",
    "    second_to_max = np.max(np.where(~mask, -1e9, prompt_similarities), axis = 1)\n",
    "    clipped = np.clip(prompt_similarities, np.min(prompt_similarities, axis = 1), second_to_max)\n",
    "\n",
    "    normalized = (clipped - np.min(prompt_similarities, axis = 1)) / (second_to_max - np.min(prompt_similarities, axis = 1))\n",
    "    return normalized\n",
    "\n"
   ]
  },
  {
   "cell_type": "code",
   "execution_count": null,
   "metadata": {},
   "outputs": [],
   "source": [
    "similarity_except_max(emb, embeddings)"
   ]
  },
  {
   "cell_type": "code",
   "execution_count": null,
   "metadata": {},
   "outputs": [],
   "source": []
  }
 ],
 "metadata": {
  "kernelspec": {
   "display_name": ".venv",
   "language": "python",
   "name": "python3"
  },
  "language_info": {
   "codemirror_mode": {
    "name": "ipython",
    "version": 3
   },
   "file_extension": ".py",
   "mimetype": "text/x-python",
   "name": "python",
   "nbconvert_exporter": "python",
   "pygments_lexer": "ipython3",
   "version": "3.12.4"
  }
 },
 "nbformat": 4,
 "nbformat_minor": 2
}
