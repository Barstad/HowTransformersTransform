{
 "cells": [
  {
   "cell_type": "code",
   "execution_count": 1,
   "metadata": {},
   "outputs": [
    {
     "name": "stdout",
     "output_type": "stream",
     "text": [
      "Loading tokenizer...\n",
      "Tokenizer loaded successfully.\n",
      "Getting hidden states. Recalculate: False\n",
      "Loading cached output\n"
     ]
    },
    {
     "name": "stderr",
     "output_type": "stream",
     "text": [
      "c:\\Users\\johan_2po46\\code\\HowTransformersTransform\\src\\backend\\.venv\\Lib\\site-packages\\torch\\storage.py:414: FutureWarning: You are using `torch.load` with `weights_only=False` (the current default value), which uses the default pickle module implicitly. It is possible to construct malicious pickle data which will execute arbitrary code during unpickling (See https://github.com/pytorch/pytorch/blob/main/SECURITY.md#untrusted-models for more details). In a future release, the default value for `weights_only` will be flipped to `True`. This limits the functions that could be executed during unpickling. Arbitrary objects will no longer be allowed to be loaded via this mode unless they are explicitly allowlisted by the user via `torch.serialization.add_safe_globals`. We recommend you start setting `weights_only=True` for any use case where you don't have full control of the loaded file. Please open an issue on GitHub for any issues related to this experimental feature.\n",
      "  return torch.load(io.BytesIO(b))\n"
     ]
    },
    {
     "name": "stdout",
     "output_type": "stream",
     "text": [
      "Retrieving token embeddings table...\n",
      "Loading existing token embeddings table\n",
      "Token embeddings table shape: (32064, 3072)\n",
      "Getting UMAP model. Recalculate: False\n",
      "Loading existing UMAP model\n",
      "Loading existing 2D representation\n",
      "2D representation shape: (32064, 2)\n",
      "Tokenizing prompt: 'An android named Apple was los...'\n",
      "Prompt tokenized. Number of tokens: 182\n"
     ]
    }
   ],
   "source": [
    "from phi35.utils import *\n",
    "tokenizer = load_tokenizer()\n",
    "hidden_states = get_hidden_states(PROMPT, tokenizer)\n",
    "embeddings_table = get_token_embeddings_table()\n",
    "umap_model = get_umap_model(embeddings_table)\n",
    "umap_2d = get_2d_representation(embeddings_table, umap_model)\n",
    "token_ids = get_prompt_token_ids(PROMPT, tokenizer)"
   ]
  },
  {
   "cell_type": "code",
   "execution_count": null,
   "metadata": {},
   "outputs": [],
   "source": [
    "tokenizer.encode(\"pizza\")"
   ]
  },
  {
   "cell_type": "code",
   "execution_count": null,
   "metadata": {},
   "outputs": [],
   "source": [
    "tokenizer.convert_ids_to_tokens([282, 24990])\n",
    "tokenizer.convert_tokens_to_ids(['izza'])\n",
    "# tokenizer.convert_str_to_tokens(\"pizza\")\n",
    "tokenizer.encode(\"izza\"), tokenizer.convert_tokens_to_ids(['izza'])\n",
    "\n",
    "\n"
   ]
  },
  {
   "cell_type": "code",
   "execution_count": null,
   "metadata": {},
   "outputs": [],
   "source": [
    "tokenizer.batch_decode([282, 24990])"
   ]
  },
  {
   "cell_type": "code",
   "execution_count": null,
   "metadata": {},
   "outputs": [],
   "source": [
    "tokenizer.encode(\"izza\")"
   ]
  },
  {
   "cell_type": "code",
   "execution_count": null,
   "metadata": {},
   "outputs": [],
   "source": [
    "tokenizer.encode(\"_izza\")"
   ]
  },
  {
   "cell_type": "code",
   "execution_count": null,
   "metadata": {},
   "outputs": [],
   "source": [
    "tokenizer.batch_decode([5951, 1362])\n"
   ]
  },
  {
   "cell_type": "code",
   "execution_count": null,
   "metadata": {},
   "outputs": [],
   "source": [
    "hidden_states.hidden_states[0].squeeze(0)\n"
   ]
  },
  {
   "cell_type": "code",
   "execution_count": null,
   "metadata": {},
   "outputs": [],
   "source": [
    "token_ids = tokenizer.encode(PROMPT, add_special_tokens=False)\n",
    "tokens = tokenizer.convert_ids_to_tokens(token_ids)\n",
    "tokens = [token.replace(\"▁\", \" \") for token in tokens if token != \"<0x0A>\"]\n"
   ]
  },
  {
   "cell_type": "code",
   "execution_count": null,
   "metadata": {},
   "outputs": [],
   "source": [
    "[token.replace(\"▁\", \" \") for token in tokens]\n"
   ]
  },
  {
   "cell_type": "code",
   "execution_count": null,
   "metadata": {},
   "outputs": [],
   "source": []
  },
  {
   "cell_type": "code",
   "execution_count": null,
   "metadata": {},
   "outputs": [],
   "source": [
    "for token in tokenizer.convert_ids_to_tokens(token_ids):\n",
    "    print(token)\n"
   ]
  },
  {
   "cell_type": "code",
   "execution_count": null,
   "metadata": {},
   "outputs": [],
   "source": [
    "import numpy as np\n",
    "import matplotlib.pyplot as plt\n",
    "import matplotlib.colors as colors\n",
    "from io import BytesIO\n",
    "import base64\n",
    "from sklearn.metrics.pairwise import cosine_similarity\n",
    "import ipywidgets as widgets\n",
    "from IPython.display import display\n",
    "\n",
    "def get_color(similarity):\n",
    "    cmap = colors.LinearSegmentedColormap.from_list(\"\", [\"red\", \"yellow\", \"green\"])\n",
    "    return colors.rgb2hex(cmap(similarity))\n",
    "\n",
    "def get_min_max_similarity_except_self(emb, embeddings):\n",
    "    prompt_similarities = cosine_similarity(emb, embeddings)\n",
    "    one_mask = np.isclose(prompt_similarities, 1, atol=1e-3)\n",
    "    non_one_max = np.max(prompt_similarities[~one_mask])\n",
    "    prompt_max_sim = non_one_max\n",
    "    prompt_min_sim = np.min(prompt_similarities)\n",
    "    return prompt_min_sim, prompt_max_sim\n",
    "\n",
    "def create_colorbar(min_sim, max_sim):\n",
    "    fig, ax = plt.subplots(figsize=(6, 1))\n",
    "    cmap = colors.LinearSegmentedColormap.from_list(\"\", [\"red\", \"yellow\", \"green\"])\n",
    "    norm = colors.Normalize(vmin=min_sim, vmax=max_sim)\n",
    "    plt.colorbar(plt.cm.ScalarMappable(norm=norm, cmap=cmap), cax=ax, orientation='horizontal', label='Similarity')\n",
    "    plt.tight_layout()\n",
    "    \n",
    "    buf = BytesIO()\n",
    "    plt.savefig(buf, format='png')\n",
    "    plt.close(fig)\n",
    "    \n",
    "    img_str = base64.b64encode(buf.getvalue()).decode()\n",
    "    return f'<img src=\"data:image/png;base64,{img_str}\">'\n",
    "\n",
    "\n",
    "def on_token_click(b):\n",
    "    token_id = b.token_id\n",
    "    emb = token_embeddings[token_id]\n",
    "    similar_tokens = get_top_similar_tokens(emb, token_embeddings, n=5, decode=True, tokenizer=tokenizer)\n",
    "    result.value = f\"Top 5 similar tokens for '{b.description}': {', '.join(similar_tokens)}\"\n",
    "    \n",
    "    # Reshape emb to a 2D array\n",
    "    emb_reshaped = emb.reshape(1, -1)\n",
    "    similarities = cosine_similarity(emb_reshaped, prompt_embeddings).flatten()\n",
    "    prompt_min, prompt_max = get_min_max_similarity_except_self(emb_reshaped, prompt_embeddings)\n",
    "    \n",
    "    for btn, sim in zip(token_buttons, similarities):\n",
    "        if btn.token_id == token_id:\n",
    "            btn.style.button_color = 'lightblue'  # Highlight the clicked token\n",
    "        else:\n",
    "            normalized_sim = (sim - prompt_min) / (prompt_max - prompt_min)\n",
    "            normalized_sim = np.clip(normalized_sim, 0, 1)\n",
    "            btn.style.button_color = get_color(normalized_sim)\n",
    "    \n",
    "    # Update color bar\n",
    "    colorbar.value = create_colorbar(prompt_min, prompt_max)\n",
    "\n",
    "\n",
    "# Calculate the maximum token length\n",
    "max_token_length = max(len(tokenizer.decode([token.item()])) for token in token_ids.flatten())\n",
    "\n",
    "# Create buttons for each token with decoded text\n",
    "token_buttons = []\n",
    "for token in token_ids.flatten():\n",
    "    decoded_token = tokenizer.decode([token.item()])\n",
    "    token_length = len(decoded_token)\n",
    "    \n",
    "    # Calculate width based on token length, with min and max limits\n",
    "    min_width = 50  # Minimum width in pixels\n",
    "    max_width = 200  # Maximum width in pixels\n",
    "    width = min(max(min_width, int(token_length / max_token_length * max_width)), max_width)\n",
    "    \n",
    "    btn = widgets.Button(\n",
    "        description=decoded_token,\n",
    "        layout=widgets.Layout(width=f'{width}px', height='30px')\n",
    "    )\n",
    "    btn.token_id = token.item()\n",
    "    btn.on_click(on_token_click)\n",
    "    token_buttons.append(btn)\n",
    "\n",
    "# Create a FlexBox layout for the buttons\n",
    "button_layout = widgets.Layout(flex_flow='row wrap', align_items='flex-start')\n",
    "buttons_box = widgets.Box(children=token_buttons, layout=button_layout)\n",
    "\n",
    "# Create a toggle for normalization\n",
    "normalize_toggle = widgets.ToggleButton(\n",
    "    value=True,\n",
    "    description='Normalize',\n",
    "    disabled=False,\n",
    "    button_style='', # 'success', 'info', 'warning', 'danger' or ''\n",
    "    tooltip='Toggle normalization',\n",
    "    icon='check' # (FontAwesome names without the `fa-` prefix)\n",
    ")\n",
    "\n",
    "# Function to handle toggle change\n",
    "def on_toggle_change(change):\n",
    "    if change['type'] == 'change' and change['name'] == 'value':\n",
    "        # Simulate a click on the last clicked token to update the view\n",
    "        last_clicked = next((btn for btn in token_buttons if btn.style.button_color == 'lightblue'), None)\n",
    "        if last_clicked:\n",
    "            on_token_click(last_clicked)\n",
    "\n",
    "normalize_toggle.observe(on_toggle_change, names='value')\n",
    "\n",
    "# Create an output widget to display results\n",
    "result = widgets.Label(value=\"Click on a token to see similar tokens\")\n",
    "\n",
    "# Create initial color bar (will be updated on click)\n",
    "colorbar = widgets.HTML(create_colorbar(0, 1))\n",
    "\n",
    "# Display the widgets and color bar\n",
    "display(widgets.VBox([normalize_toggle, buttons_box, result, colorbar]))"
   ]
  },
  {
   "cell_type": "markdown",
   "metadata": {},
   "source": []
  },
  {
   "cell_type": "code",
   "execution_count": null,
   "metadata": {},
   "outputs": [],
   "source": []
  }
 ],
 "metadata": {
  "kernelspec": {
   "display_name": ".venv",
   "language": "python",
   "name": "python3"
  },
  "language_info": {
   "codemirror_mode": {
    "name": "ipython",
    "version": 3
   },
   "file_extension": ".py",
   "mimetype": "text/x-python",
   "name": "python",
   "nbconvert_exporter": "python",
   "pygments_lexer": "ipython3",
   "version": "3.12.4"
  }
 },
 "nbformat": 4,
 "nbformat_minor": 2
}
